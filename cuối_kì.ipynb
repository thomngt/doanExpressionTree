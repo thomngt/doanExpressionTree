{
  "nbformat": 4,
  "nbformat_minor": 0,
  "metadata": {
    "colab": {
      "provenance": [],
      "include_colab_link": true
    },
    "kernelspec": {
      "name": "python3",
      "display_name": "Python 3"
    },
    "language_info": {
      "name": "python"
    }
  },
  "cells": [
    {
      "cell_type": "markdown",
      "metadata": {
        "id": "view-in-github",
        "colab_type": "text"
      },
      "source": [
        "<a href=\"https://colab.research.google.com/github/thomngt/doanExpressionTree/blob/master/cu%E1%BB%91i_k%C3%AC.ipynb\" target=\"_parent\"><img src=\"https://colab.research.google.com/assets/colab-badge.svg\" alt=\"Open In Colab\"/></a>"
      ]
    },
    {
      "cell_type": "code",
      "execution_count": null,
      "metadata": {
        "id": "N5WspUm1alqU",
        "outputId": "a1b03703-ce12-47ae-9489-7a9b86fa3872",
        "colab": {
          "base_uri": "https://localhost:8080/"
        }
      },
      "outputs": [
        {
          "output_type": "stream",
          "name": "stdout",
          "text": [
            "Max Value:  40\n",
            "Min Weight:  14\n",
            "Result:  [[3, 1]]\n"
          ]
        }
      ],
      "source": [
        "\n",
        "def backtracking (n,w, weights,values ):\n",
        "    result = []\n",
        "    maxval = 0\n",
        "    minwgh = 0\n",
        "    def findAllItems(n,cur,w,maxval,minwgh):\n",
        "        if cur == [0]:\n",
        "            return \n",
        "        if (n<0):\n",
        "            sumval = 0\n",
        "            sumwgh = 0\n",
        "            for i in cur:\n",
        "                sumval += values[i]\n",
        "            if sumval > maxval:\n",
        "                maxval = sumval\n",
        "                result.clear()\n",
        "                result.append(cur.copy())\n",
        "            elif sumval == maxval:\n",
        "                for i in cur:\n",
        "                    sumwgh += weights[i]\n",
        "                    if sumwgh < minwgh:\n",
        "                        minwgh = sumwgh \n",
        "                        result.clear()\n",
        "                        result.append(cur.copy())\n",
        "                    elif sumwgh == minwgh:\n",
        "                        result.append(cur.copy())               \n",
        "            if len(cur)>0:\n",
        "                n=cur.pop()\n",
        "                return findAllItems(n-1,cur,w+weights[n],maxval,minwgh)\n",
        "        if(weights[n] <= w):\n",
        "            cur.append(n)\n",
        "            findAllItems(n-1,cur,w-weights[n],maxval,minwgh)\n",
        "        findAllItems(n-1,cur,w,maxval,minwgh)\n",
        "       \n",
        "    findAllItems(n-1,[],w,0,0)\n",
        "    for i in result[0]:\n",
        "         maxval += values[i]\n",
        "         minwgh += weights[i]\n",
        "    return result,maxval,minwgh\n",
        "    \n",
        "weights = [3,4,9,10,12] #weight of each item\n",
        "values = [4,15,18,25,30] #profit or value of each item\n",
        "w = 15 #knapsack weight\n",
        "n = len(weights) #number of items\n",
        "allitems= backtracking(n,w,weights,values)\n",
        "print('Max Value: ', allitems[1])\n",
        "print('Min Weight: ', allitems[2])\n",
        "print('Result: ', allitems[0])\n",
        "\n"
      ]
    }
  ]
}